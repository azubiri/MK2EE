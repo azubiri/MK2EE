{
 "cells": [
  {
   "cell_type": "markdown",
   "metadata": {},
   "source": [
    "# Forward Kinematics: Mantis Robot"
   ]
  },
  {
   "cell_type": "code",
   "execution_count": 7,
   "metadata": {},
   "outputs": [],
   "source": [
    "import modern_robotics as mr\n",
    "import numpy as np"
   ]
  },
  {
   "cell_type": "markdown",
   "metadata": {},
   "source": [
    "## Home position matrix"
   ]
  },
  {
   "cell_type": "code",
   "execution_count": 8,
   "metadata": {},
   "outputs": [
    {
     "name": "stdout",
     "output_type": "stream",
     "text": [
      "M = \n",
      " [[1.000 0.000 0.000 0.000]\n",
      " [0.000 1.000 0.000 660.350]\n",
      " [0.000 0.000 1.000 0.000]\n",
      " [0.000 0.000 0.000 1.000]] \n",
      "\n"
     ]
    }
   ],
   "source": [
    "M = np.array([[1,0,0,0],[0,1,0,660.35],[0,0,1,0],[0,0,0,1]])\n",
    "print(\"M = \\n\",M, \"\\n\")"
   ]
  },
  {
   "cell_type": "markdown",
   "metadata": {},
   "source": [
    "## Screw axis"
   ]
  },
  {
   "cell_type": "code",
   "execution_count": 9,
   "metadata": {},
   "outputs": [
    {
     "name": "stdout",
     "output_type": "stream",
     "text": [
      "S1 axis: \n",
      " [0 1 0 0 0 0] \n",
      "\n",
      "S2 axis: \n",
      " [1.000 0.000 0.000 0.000 0.000 -173.500] \n",
      "\n",
      "S3 axis: \n",
      " [1.000 0.000 0.000 0.000 0.000 -398.500] \n",
      "\n",
      "S4 axis: \n",
      " [0 1 0 0 0 0] \n",
      "\n",
      "S5 axis: \n",
      " [1.000 0.000 0.000 0.000 0.000 -628.850] \n",
      "\n",
      "S6 axis: \n",
      " [0.000 1.000 0.000 0.000 0.000 0.000] \n",
      "\n"
     ]
    }
   ],
   "source": [
    "q1 = np.array([0, 0, 0])\n",
    "s1 = np.array([0, 1, 0])\n",
    "S1 = mr.ScrewToAxis(q1, s1, 0)\n",
    "print(\"S1 axis: \\n\", S1, \"\\n\")\n",
    "\n",
    "q2 = np.array([0, 173.5, 0])\n",
    "s2 = np.array([1, 0, 0])\n",
    "S2 = mr.ScrewToAxis(q2, s2, 0)\n",
    "print(\"S2 axis: \\n\", S2, \"\\n\")\n",
    "\n",
    "q3 = np.array([0, 398.5, 0])\n",
    "s3 = np.array([1, 0, 0])\n",
    "S3 = mr.ScrewToAxis(q3, s3, 0)\n",
    "print(\"S3 axis: \\n\", S3, \"\\n\")\n",
    "\n",
    "q4 = np.array([0, 428, 0])\n",
    "s4 = np.array([0, 1, 0])\n",
    "S4 = mr.ScrewToAxis(q4, s4, 0)\n",
    "print(\"S4 axis: \\n\", S4, \"\\n\")\n",
    "\n",
    "q5 = np.array([0, 628.85, 0])\n",
    "s5 = np.array([1, 0, 0])\n",
    "S5 = mr.ScrewToAxis(q5, s5, 0)\n",
    "print(\"S5 axis: \\n\", S5, \"\\n\")\n",
    "\n",
    "q6 = np.array([0, 660.25, 0])\n",
    "s6 = np.array([0, 1, 0])\n",
    "S6 = mr.ScrewToAxis(q6, s6, 0)\n",
    "print(\"S6 axis: \\n\", S6[0:6], \"\\n\")"
   ]
  },
  {
   "cell_type": "markdown",
   "metadata": {},
   "source": [
    "## Screw Axis list"
   ]
  },
  {
   "cell_type": "code",
   "execution_count": 10,
   "metadata": {},
   "outputs": [],
   "source": [
    "Slist = np.array([S1,S2,S3,S4,S5,S6]).transpose()"
   ]
  },
  {
   "cell_type": "markdown",
   "metadata": {},
   "source": [
    "## Joint rotations"
   ]
  },
  {
   "cell_type": "code",
   "execution_count": 13,
   "metadata": {},
   "outputs": [],
   "source": [
    "thetalist1 = np.array([-np.pi/2, np.pi/2, np.pi/3, -np.pi/4, 1, np.pi/6])\n",
    "thetalist2 = np.array([0, 0, 0, 0, 0, 0])\n",
    "thetalist3 = np.array([-np.pi/2, np.pi/2, np.pi/3, -np.pi/4, 1, np.pi/6])\n",
    "thetalist4 = np.array([np.pi/2, 0, 0, 0, 0, 0])\n",
    "thetalist5 = np.array([0, 0, np.pi/2, 0, -np.pi/2, 0])"
   ]
  },
  {
   "cell_type": "markdown",
   "metadata": {},
   "source": [
    "## Homonegeous Transformation"
   ]
  },
  {
   "cell_type": "code",
   "execution_count": 14,
   "metadata": {},
   "outputs": [
    {
     "name": "stdout",
     "output_type": "stream",
     "text": [
      "Ts = \n",
      " [[1.000 0.000 0.000 0.000]\n",
      " [0.000 1.000 0.000 430.000]\n",
      " [0.000 0.000 1.000 230.350]\n",
      " [0.000 0.000 0.000 1.000]] \n",
      "\n"
     ]
    }
   ],
   "source": [
    "Ts = mr.FKinSpace(M,Slist, thetalist5)\n",
    "np.set_printoptions(formatter={'float': lambda x: \"{0:0.3f}\".format(x)})\n",
    "print(\"Ts = \\n\",Ts, \"\\n\")"
   ]
  }
 ],
 "metadata": {
  "kernelspec": {
   "display_name": "Python 3",
   "language": "python",
   "name": "python3"
  },
  "language_info": {
   "codemirror_mode": {
    "name": "ipython",
    "version": 3
   },
   "file_extension": ".py",
   "mimetype": "text/x-python",
   "name": "python",
   "nbconvert_exporter": "python",
   "pygments_lexer": "ipython3",
   "version": "3.7.5"
  }
 },
 "nbformat": 4,
 "nbformat_minor": 4
}
